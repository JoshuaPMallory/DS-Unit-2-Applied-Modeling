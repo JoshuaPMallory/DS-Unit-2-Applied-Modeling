{
  "nbformat": 4,
  "nbformat_minor": 0,
  "metadata": {
    "colab": {
      "name": "D1_Assignment_Applied_Modeling.ipynb",
      "provenance": [],
      "collapsed_sections": [],
      "include_colab_link": true
    },
    "kernelspec": {
      "display_name": "Python 3",
      "language": "python",
      "name": "python3"
    },
    "language_info": {
      "codemirror_mode": {
        "name": "ipython",
        "version": 3
      },
      "file_extension": ".py",
      "mimetype": "text/x-python",
      "name": "python",
      "nbconvert_exporter": "python",
      "pygments_lexer": "ipython3",
      "version": "3.7.3"
    }
  },
  "cells": [
    {
      "cell_type": "markdown",
      "metadata": {
        "id": "view-in-github",
        "colab_type": "text"
      },
      "source": [
        "<a href=\"https://colab.research.google.com/github/JoshuaPMallory/DS-Unit-2-Applied-Modeling/blob/master/module1/D1_Assignment_Applied_Modeling.ipynb\" target=\"_parent\"><img src=\"https://colab.research.google.com/assets/colab-badge.svg\" alt=\"Open In Colab\"/></a>"
      ]
    },
    {
      "cell_type": "markdown",
      "metadata": {
        "colab_type": "text",
        "id": "nCc3XZEyG3XV"
      },
      "source": [
        "Lambda School Data Science\n",
        "\n",
        "*Unit 2, Sprint 3, Module 1*\n",
        "\n",
        "---\n",
        "\n",
        "\n",
        "# Define ML problems\n",
        "\n",
        "You will use your portfolio project dataset for all assignments this sprint.\n",
        "\n",
        "## Assignment\n",
        "\n",
        "Complete these tasks for your project, and document your decisions.\n",
        "\n",
        "- [ ] Choose your target. Which column in your tabular dataset will you predict?\n",
        "- [ ] Is your problem regression or classification?\n",
        "- [ ] How is your target distributed?\n",
        "    - Classification: How many classes? Are the classes imbalanced?\n",
        "    - Regression: Is the target right-skewed? If so, you may want to log transform the target.\n",
        "- [ ] Choose which observations you will use to train, validate, and test your model.\n",
        "    - Are some observations outliers? Will you exclude them?\n",
        "    - Will you do a random split or a time-based split?\n",
        "- [ ] Choose your evaluation metric(s).\n",
        "    - Classification: Is your majority class frequency > 50% and < 70% ? If so, you can just use accuracy if you want. Outside that range, accuracy could be misleading. What evaluation metric will you choose, in addition to or instead of accuracy?\n",
        "- [ ] Begin to clean and explore your data.\n",
        "- [ ] Begin to choose which features, if any, to exclude. Would some features \"leak\" future information?"
      ]
    },
    {
      "cell_type": "code",
      "metadata": {
        "id": "MQkIHNNLjQG0",
        "colab_type": "code",
        "colab": {}
      },
      "source": [
        "# The goal of this program is to determine the likelihood of Early Access Games to\n",
        "# leave Early Access.\n",
        "\n",
        "import pandas as pd\n",
        "\n",
        "\n",
        "def google_drive_useable(link):\n",
        "    return link.replace('/open?', '/uc?')\n",
        "\n",
        "data = 'https://drive.google.com/open?id=1xMGxkT2JWMQCnu5vCOaVgLUSPExh_sHw'\n",
        "df   = pd.read_csv(google_drive_useable(data))\n"
      ],
      "execution_count": 0,
      "outputs": []
    },
    {
      "cell_type": "code",
      "metadata": {
        "id": "ATja9z9zTkqB",
        "colab_type": "code",
        "colab": {}
      },
      "source": [
        "# - [ ] Choose your target. Which column in your tabular dataset will you predict?\n"
      ],
      "execution_count": 0,
      "outputs": []
    },
    {
      "cell_type": "code",
      "metadata": {
        "id": "y4l9xJiPToZY",
        "colab_type": "code",
        "colab": {}
      },
      "source": [
        "# - [ ] Is your problem regression or classification?\n"
      ],
      "execution_count": 0,
      "outputs": []
    },
    {
      "cell_type": "code",
      "metadata": {
        "id": "TN2BOSm-TpWx",
        "colab_type": "code",
        "colab": {}
      },
      "source": [
        "# - [ ] How is your target distributed?\n",
        "#     - Classification: How many classes? Are the classes imbalanced?\n",
        "#     - Regression: Is the target right-skewed? If so, you may want to log transform the target.\n"
      ],
      "execution_count": 0,
      "outputs": []
    },
    {
      "cell_type": "code",
      "metadata": {
        "id": "aIbLLUomTqVG",
        "colab_type": "code",
        "colab": {}
      },
      "source": [
        "# - [ ] Choose which observations you will use to train, validate, and test your model.\n",
        "#     - Are some observations outliers? Will you exclude them?\n",
        "#     - Will you do a random split or a time-based split?\n"
      ],
      "execution_count": 0,
      "outputs": []
    },
    {
      "cell_type": "code",
      "metadata": {
        "id": "vyzqyrqETrPX",
        "colab_type": "code",
        "colab": {}
      },
      "source": [
        "# - [ ] Choose your evaluation metric(s).\n",
        "#     - Classification: Is your majority class frequency > 50% and < 70% ? If so, you can just use accuracy if you want. Outside that range, accuracy could be misleading. What evaluation metric will you choose, in addition to or instead of accuracy?\n"
      ],
      "execution_count": 0,
      "outputs": []
    },
    {
      "cell_type": "code",
      "metadata": {
        "id": "SYR4NuAUTsTl",
        "colab_type": "code",
        "colab": {}
      },
      "source": [
        "# - [ ] Begin to clean and explore your data.\n"
      ],
      "execution_count": 0,
      "outputs": []
    },
    {
      "cell_type": "code",
      "metadata": {
        "id": "seSTw728Ttai",
        "colab_type": "code",
        "colab": {}
      },
      "source": [
        "# - [ ] Begin to choose which features, if any, to exclude. Would some features \"leak\" future information?\n"
      ],
      "execution_count": 0,
      "outputs": []
    }
  ]
}